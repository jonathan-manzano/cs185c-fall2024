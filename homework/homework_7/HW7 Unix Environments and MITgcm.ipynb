{
 "cells": [
  {
   "cell_type": "markdown",
   "id": "ae587e5d-ad7d-42ad-9ca7-d064e2ef5f2f",
   "metadata": {},
   "source": [
    "# Homework 7: Unix Environments and MITgcm\n",
    "\n",
    "Name: Jonathan Manzano\n",
    "\n",
    "Date: October 08, 2024\n",
    "\n",
    "#### Overview\n",
    "In this homework, you will install a Fortran compiler, download a recent version of the MIT General Circulation Model source code, and compile a verification model experiment."
   ]
  },
  {
   "cell_type": "markdown",
   "id": "8926c19c-ad19-419b-b2d9-6f7a1f7f8989",
   "metadata": {},
   "source": [
    "### Part 1: Download a Compiler\n",
    "To start this homework, begin by installing a Fortran compiler on your machine by following the instructions [HERE](https://profmikewood.github.io/ocean_modeling_book/getting_started/installing_compiler_and_mpi.html). Note that there are different installation instructions depending on whether your machine is a Mac or a PC. You do not need to complete the portion for using MPI at this time.\n",
    "\n",
    "When your download is complete, edit the following cell to outline which option you chose."
   ]
  },
  {
   "metadata": {},
   "cell_type": "markdown",
   "source": "\"I am using a Linux machine with the Arch Linux operating system btw. I downloaded the `gcc-fortran` fortran compiler.\"",
   "id": "7c124c0510aaf0f3"
  },
  {
   "cell_type": "markdown",
   "id": "1cb79dc8-5d71-4126-b851-3af0c3a44027",
   "metadata": {},
   "source": [
    "### Part 2: Unix Commands\n",
    "Answer the following questions about Unix commands and their output on your machine. When you enter your Unix commands below, you can make a markdown code block using three ` symbols as follows:\n",
    "\n",
    "```\n",
    "unix code \n",
    "```"
   ]
  },
  {
   "cell_type": "markdown",
   "id": "520ecb33",
   "metadata": {},
   "source": [
    "Question 2.1: What is the path to your home directory? Enter the command you use to identify this directory and list the path."
   ]
  },
  {
   "metadata": {},
   "cell_type": "markdown",
   "source": [
    "```shell\n",
    "$ echo $HOME\n",
    "/home/jon\n",
    "```"
   ],
   "id": "b46eef98efe50f7e"
  },
  {
   "metadata": {
    "ExecuteTime": {
     "end_time": "2024-10-08T19:59:34.695380Z",
     "start_time": "2024-10-08T19:59:34.244983Z"
    }
   },
   "cell_type": "code",
   "source": "!echo $HOME",
   "id": "2e3f9ae81e10bb6c",
   "outputs": [
    {
     "name": "stdout",
     "output_type": "stream",
     "text": [
      "/home/jon\r\n"
     ]
    }
   ],
   "execution_count": 1
  },
  {
   "cell_type": "markdown",
   "id": "c98714f6",
   "metadata": {},
   "source": [
    "Question 2.2: What is your default \"profile script\" on your machine? What command can you use to list the hidden files in your home directory?"
   ]
  },
  {
   "metadata": {},
   "cell_type": "markdown",
   "source": [
    "```shell\n",
    "$ ls -al $HOME\n",
    "...\n",
    ".zshrc\n",
    "```"
   ],
   "id": "7d4eaacced2f3549"
  },
  {
   "metadata": {
    "ExecuteTime": {
     "end_time": "2024-10-08T20:20:59.132013Z",
     "start_time": "2024-10-08T20:20:58.686355Z"
    }
   },
   "cell_type": "code",
   "source": "!echo $SHELL",
   "id": "b397eb3b69bb4033",
   "outputs": [
    {
     "name": "stdout",
     "output_type": "stream",
     "text": [
      "/usr/bin/zsh\r\n"
     ]
    }
   ],
   "execution_count": 1
  },
  {
   "metadata": {
    "ExecuteTime": {
     "end_time": "2024-10-08T19:59:58.861895Z",
     "start_time": "2024-10-08T19:59:58.380165Z"
    }
   },
   "cell_type": "code",
   "source": "!ls -a $HOME",
   "id": "ec48c3e922258aaf",
   "outputs": [
    {
     "name": "stdout",
     "output_type": "stream",
     "text": [
      ".\t       Documents    .local\t     sjsu\t    .Xauthority\r\n",
      "..\t       .dotfiles    .m2\t\t     .ssh\t    .Xmodmap\r\n",
      ".android       Downloads    .mozilla\t     .subversion    .yarn\r\n",
      ".bash_history  .fontconfig  Music\t     test2.txt\t    .yarnrc\r\n",
      ".bash_logout   .gitconfig   .npm\t     test.txt\t    .zcompdump\r\n",
      ".bash_profile  .gitignore   .nv\t\t     .texlive\t    .zhistory\r\n",
      ".bashrc        .gnupg\t    .p10k.zsh\t     .tmux\t    .zoom\r\n",
      "bin\t       .go\t    Pictures\t     .tmux.conf     .zshenv\r\n",
      ".cache\t       .gtkrc-2.0   .pki\t     Videos\t    .zsh_history\r\n",
      ".cargo\t       .ipython     .profile\t     .vscode-oss    .zshrc\r\n",
      ".conda\t       .java\t    .pytest_cache    .wakatime\r\n",
      ".condarc       .jupyter     .python_history  .wakatime.cfg\r\n",
      ".config        .lesshst     .rustup\t     .wget-hsts\r\n"
     ]
    }
   ],
   "execution_count": 2
  },
  {
   "cell_type": "markdown",
   "id": "7ff6aefc",
   "metadata": {},
   "source": [
    "Question 2.3: Change your directory to the folder that you use to store files for this CS 185C class. Enter the commands you entered to move to this directory."
   ]
  },
  {
   "metadata": {},
   "cell_type": "markdown",
   "source": [
    "```shell\n",
    "$ cd ~/sjsu/cs185c_fall2024\n",
    "$ pwd\n",
    "/home/jon/sjsu/cs185c_fall2024\n",
    "```"
   ],
   "id": "25a1aad07a5d167e"
  },
  {
   "metadata": {
    "ExecuteTime": {
     "end_time": "2024-10-08T20:01:27.795277Z",
     "start_time": "2024-10-08T20:01:27.328069Z"
    }
   },
   "cell_type": "code",
   "source": "!cd ~/sjsu/cs185c_fall2024 && pwd",
   "id": "adae33fff9cb38f7",
   "outputs": [
    {
     "name": "stdout",
     "output_type": "stream",
     "text": [
      "/home/jon/sjsu/cs185c_fall2024\r\n"
     ]
    }
   ],
   "execution_count": 4
  },
  {
   "cell_type": "markdown",
   "id": "a7dca3ed",
   "metadata": {},
   "source": [
    "### Part 3: MITgcm\n",
    "In this section, you will download a recent version of MITgcm. In your CS 185C directory, run the following command:\n",
    "\n",
    "```\n",
    "git clone https://github.com/MITgcm/MITgcm.git\n",
    "```\n",
    "\n",
    "This will clone the MITgcm code into your CS 185C repository next to other directories you have e.g. homework, project, etc. When your clone is complete, change directories into the MITgcm directory."
   ]
  },
  {
   "cell_type": "markdown",
   "id": "db1bc848-211a-476b-91e0-f8c9826341cd",
   "metadata": {},
   "source": [
    "The model source code is listed in the `model/src` directory. Enter a Unix command to list all of the files in this directory. Then, based on the file names, identify one script that aligns with a topic we have covered so far in CS 185C. What do you suppose this script will do in the model?"
   ]
  },
  {
   "metadata": {},
   "cell_type": "markdown",
   "source": "A script in the `model/src` directory that aligns with a topic we have covered so far in CS 185C is `calc_adv_flow.F`. This script likely calculates the advection of flow in the model.",
   "id": "53f193fd9241b300"
  },
  {
   "cell_type": "markdown",
   "id": "775df175",
   "metadata": {},
   "source": [
    "### Part 4: Compile a Model Tutorial"
   ]
  },
  {
   "cell_type": "markdown",
   "id": "1e2c4b43",
   "metadata": {},
   "source": [
    "Next, change your directory to the the `verification/tutorial_barotropic_gyre` directory and follow the instructions to compile a model *without* MPI [HERE](https://profmikewood.github.io/ocean_modeling_book/mitgcm/getting_started_with_MITgcm.html#compiling-without-mpi) for the barotropic gyre verification experiment.\n",
    "\n",
    "Note that you will need to identify the \"optfile\" for your machine. Notes on identifying this file are [HERE](https://profmikewood.github.io/ocean_modeling_book/mitgcm/choosing_an_optfile.html).\n",
    "\n",
    "When the compilation is complete, you should see the `mitgcmuv` (or `mitgcmuv.exe`) file in your `build` directory. Enter the command below you used to verify this file exists."
   ]
  },
  {
   "metadata": {
    "ExecuteTime": {
     "end_time": "2024-10-08T20:11:43.386512Z",
     "start_time": "2024-10-08T20:11:42.445622Z"
    }
   },
   "cell_type": "code",
   "source": [
    "import os\n",
    "\n",
    "filename = 'mitgcmuv'\n",
    "\n",
    "os.chdir('/home/jon/sjsu/cs185c_fall2024/MITgcm/verification/tutorial_barotropic_gyre/build')\n",
    "!pwd\n",
    "!if [ -f {filename} ]; then echo \"true: mitgcmuv exist\"; else echo \"false: mitgcmuv does not exisit\"; fi"
   ],
   "id": "1207b721fdae9f41",
   "outputs": [
    {
     "name": "stdout",
     "output_type": "stream",
     "text": [
      "/home/jon/sjsu/cs185c_fall2024/MITgcm/verification/tutorial_barotropic_gyre/build\r\n",
      "true: mitgcmuv exist\r\n"
     ]
    }
   ],
   "execution_count": 23
  },
  {
   "cell_type": "markdown",
   "id": "6f1d01cb",
   "metadata": {},
   "source": [
    "If your compilation is successful - woohoo! We'll work on running the model and assessing the output in class after this homework is due."
   ]
  }
 ],
 "metadata": {
  "kernelspec": {
   "display_name": "cs185c",
   "language": "python",
   "name": "cs185c"
  },
  "language_info": {
   "codemirror_mode": {
    "name": "ipython",
    "version": 3
   },
   "file_extension": ".py",
   "mimetype": "text/x-python",
   "name": "python",
   "nbconvert_exporter": "python",
   "pygments_lexer": "ipython3",
   "version": "3.11.9"
  }
 },
 "nbformat": 4,
 "nbformat_minor": 5
}
