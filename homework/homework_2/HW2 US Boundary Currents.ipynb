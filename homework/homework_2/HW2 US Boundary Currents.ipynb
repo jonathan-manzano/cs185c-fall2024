{
 "cells": [
  {
   "cell_type": "markdown",
   "id": "ae587e5d-ad7d-42ad-9ca7-d064e2ef5f2f",
   "metadata": {},
   "source": [
    "# Homework 2: U.S. Boundary Currents\n",
    "\n",
    "Name: \n",
    "\n",
    "Date: \n",
    "\n",
    "#### Overview\n",
    "In class, we examined the general structure of ocean circulation on large scales and found that major ocean basins contain gyres - large circulation cells in the ocean. Further, we saw that vertical motion is driven by changes in density. In this homework, you will examine the structure of the ocean currents along the east and west coasts of the U.S and consider how these currents fit into the broader ocean circulation.\n",
    "\n",
    "#### Import Modules\n",
    "To begin, import the modules required to access data from netCDF files and make plots:"
   ]
  },
  {
   "cell_type": "code",
   "execution_count": null,
   "id": "252facb6-dc40-472b-a94a-2567f0ade2cd",
   "metadata": {},
   "outputs": [],
   "source": [
    "# import modules here\n"
   ]
  },
  {
   "cell_type": "markdown",
   "id": "8926c19c-ad19-419b-b2d9-6f7a1f7f8989",
   "metadata": {},
   "source": [
    "### Part 1: Horizonal Velocity Structure\n",
    "First, examine the mean velocity on the west and east coasts of the U.S. Begin by loading in both the `EVEL` and `NVEL` fields from the `EVEL_2015_12.nc` and `VVEL_2015_12.nc` files, respectively -- these fields represent the zonal (eastward-flowing) and meridional (westward-flowing) velocity in the model. "
   ]
  },
  {
   "cell_type": "code",
   "execution_count": null,
   "id": "10d81b73-98b9-4514-a15c-607e0cb88870",
   "metadata": {},
   "outputs": [],
   "source": [
    "# read in the EVEL and VVEL files to an xarray dataset\n",
    "# note that these files must be in the same folder as this notebook\n"
   ]
  },
  {
   "cell_type": "code",
   "execution_count": null,
   "id": "2f191f78-48d7-4797-b57f-4672609d13aa",
   "metadata": {},
   "outputs": [],
   "source": [
    "# store the velocity components and longitude/latitude data\n",
    "# into numpy arrays\n"
   ]
  },
  {
   "cell_type": "markdown",
   "id": "596d5fbb-34fd-4699-ade0-17c26382dd94",
   "metadata": {},
   "source": [
    "Now that you have the data read in, make a plot of the eastward and northward velocity at the surface of the ocean. Be sure to add a title to each plot and some labels for the x and y axes."
   ]
  },
  {
   "cell_type": "code",
   "execution_count": null,
   "id": "f1c9f325-63e5-4a92-8240-0577ac52cd84",
   "metadata": {},
   "outputs": [],
   "source": [
    "# make a plot of the velocity components (one for each)\n",
    "# use a divergent colormap (such as seismic) to visualize the data\n",
    "# for interpretation, it will likely be helpful to adjust the data\n",
    "# bounds to be +/- 0.5 or even +/- 0.1\n",
    "\n",
    "# make a figure\n",
    "fig = plt.figure(figsize=(10,5))\n",
    "\n",
    "# make a subplot for the eastward velocity at the surface\n",
    "plt.subplot(1,2,1)\n",
    "\n",
    "\n",
    "# make a subplot for the northward velocity at the surface\n",
    "plt.subplot(1,2,2)\n",
    "\n"
   ]
  },
  {
   "cell_type": "markdown",
   "id": "dc84ff18-dcff-4f1e-80f9-adf69131d035",
   "metadata": {},
   "source": [
    "### Questions:\n",
    "1. What direction are the surface currents moving (roughly) at:\n",
    "    - 30$^{\\circ}$N on the east cost of the U.S.? the west coast?\n",
    "    - 45$^{\\circ}$N on the east cost of the U.S.? the west coast?\n",
    "2. Which current flows faster? East coast or west coast?\n",
    "2. Explain how these currents are part of the gyres in the North Atlantic and North Pacific."
   ]
  },
  {
   "cell_type": "code",
   "execution_count": null,
   "id": "1e5a7cb6-a9cb-4fa2-9ae1-9e87d8bcebff",
   "metadata": {},
   "outputs": [],
   "source": [
    "# change this cell to a markdown and input your response here"
   ]
  },
  {
   "cell_type": "markdown",
   "id": "e0279a3e-1df0-4117-a536-d57d4c165e63",
   "metadata": {},
   "source": [
    "### Part 2: Horizonal Temperature Structure\n",
    "Next, examine the mean temperature on the coasts of the U.S. Load in the temperature field `THETA` from the `THETA_2015_12.nc` file. "
   ]
  },
  {
   "cell_type": "code",
   "execution_count": null,
   "id": "42713e95-1209-4dd4-9b16-7c631afda6b6",
   "metadata": {},
   "outputs": [],
   "source": [
    "# read in the THETA file to an xarray dataset\n",
    "# note that this file must be in the same folder as this notebook\n"
   ]
  },
  {
   "cell_type": "code",
   "execution_count": null,
   "id": "8b2ab53f-ce8c-43b8-9059-65d28e40d68e",
   "metadata": {},
   "outputs": [],
   "source": [
    "# store the THETA grid into a into numpy array\n"
   ]
  },
  {
   "cell_type": "markdown",
   "id": "9f780d92-9097-4142-bd28-536cad73a5d2",
   "metadata": {},
   "source": [
    "Similar to your plot above, make a plot of the temperature at the surface of the ocean. "
   ]
  },
  {
   "cell_type": "code",
   "execution_count": null,
   "id": "459cb8ac-769f-4e30-9479-84065fb6bed9",
   "metadata": {},
   "outputs": [],
   "source": [
    "# make a plot of the temperature\n",
    "# set the data bounds to -2 to 32 with a \n",
    "# sensible color map to visualize the data\n",
    "\n",
    "# make a figure\n",
    "fig = plt.figure(figsize=(8,5))\n",
    "\n",
    "# plot the data\n",
    "\n"
   ]
  },
  {
   "cell_type": "markdown",
   "id": "d0f2d91e-6283-4aa3-b52a-5ee8fce63f35",
   "metadata": {},
   "source": [
    "### Questions:\n",
    "1. How does the temperature on the west cost of the U.S. compare to the east coast at the same latitude?\n",
    "2. How might ocean currents contribute to this temperature regime?"
   ]
  },
  {
   "cell_type": "code",
   "execution_count": null,
   "id": "29837cc6-275f-4317-a235-5fda1a641559",
   "metadata": {},
   "outputs": [],
   "source": [
    "# change this cell to a markdown and input your response here"
   ]
  },
  {
   "cell_type": "markdown",
   "id": "1cb79dc8-5d71-4126-b851-3af0c3a44027",
   "metadata": {},
   "source": [
    "### Part 3: Vertical Structure\n",
    "Next, look at the vertical structure of ocean currents as well as temperature on the U.S coast. Being by loading in the vertical velocity field `WVELSTAR` from the `WVELSTAR_2015_12.nc` file. This variable estimates the speed at which water is moving in the vertical direction."
   ]
  },
  {
   "cell_type": "code",
   "execution_count": null,
   "id": "779c135b-cdfd-48bf-b011-fa6e4c646293",
   "metadata": {},
   "outputs": [],
   "source": [
    "# read in the WVELSTAR file to an xarray dataset\n",
    "# note that this file must be in the same folder as this notebook\n"
   ]
  },
  {
   "cell_type": "code",
   "execution_count": null,
   "id": "23db5f2d-905d-4af5-9fb7-c71043a3ef6a",
   "metadata": {},
   "outputs": [],
   "source": [
    "# store the WVELSTAR grid into a into numpy array\n"
   ]
  },
  {
   "cell_type": "markdown",
   "id": "cf468764-ecb7-4282-b7c3-479a63aece8b",
   "metadata": {},
   "source": [
    "Since we'll be plotting a vertical profile, we'll also need a depth variable. Read this variable into a numpy array in the same way you read in the data above."
   ]
  },
  {
   "cell_type": "code",
   "execution_count": null,
   "id": "93ed4ed3-5e9c-4cad-8297-2524d1a0ed2a",
   "metadata": {},
   "outputs": [],
   "source": [
    "# read in the depth variable to a numpy array\n",
    "# Hint: Look at the metadata for the WVELSTAR\n",
    "# What is the name of the depth variable?\n"
   ]
  },
  {
   "cell_type": "markdown",
   "id": "047a67ea-dad5-47a5-a07f-3cb5be8c7009",
   "metadata": {},
   "source": [
    "Next, create side-by-side plots of vertical velocity and temperature along the row corresponding to the latitude 40$^{\\circ}$N i.e. index 259 along the latitude axis."
   ]
  },
  {
   "cell_type": "code",
   "execution_count": null,
   "id": "147eb186-bcc6-4c6b-aaae-86fb51d4a27b",
   "metadata": {},
   "outputs": [],
   "source": [
    "# make a figure\n",
    "fig = plt.figure(figsize=(10,10))\n",
    "\n",
    "# make subplot the vertical velocity\n",
    "# use a divergent colorbar\n",
    "# you will need to adjust the color bounds appropriately for this data\n",
    "# try a few values and see what works\n",
    "plt.subplot(2,1,1)\n",
    "\n",
    "\n",
    "# make a subplot of the vertical profile of temperature\n",
    "plt.subplot(2,1,2)\n",
    "\n"
   ]
  },
  {
   "cell_type": "markdown",
   "id": "f69d9fe3-e1bc-4d03-b65e-da03f05f642b",
   "metadata": {},
   "source": [
    "### Questions:\n",
    "1. How does the vertical velocity in the current on the west coast compare to that on the east?\n",
    "2. How does the speed of vertical velocity compare to horizontal velocity? Why are they different? In other words, what are the forcing mechanisms associated with each?\n",
    "3. How might the vertical currents adjacent to the coastline contribute to the differences in surface temperature?\n",
    "4. Challenge question: On the west coast of the U.S., the prevailing winds tend to flow south in the spring time. How might these winds contribute to the vertical velocity identified in question 1?"
   ]
  },
  {
   "cell_type": "code",
   "execution_count": null,
   "id": "ec942513-91ce-49e9-9dd7-ae5141ccbf5f",
   "metadata": {},
   "outputs": [],
   "source": [
    "# change this cell to a markdown and input your response here"
   ]
  }
 ],
 "metadata": {
  "kernelspec": {
   "display_name": "ms274",
   "language": "python",
   "name": "ms274"
  },
  "language_info": {
   "codemirror_mode": {
    "name": "ipython",
    "version": 3
   },
   "file_extension": ".py",
   "mimetype": "text/x-python",
   "name": "python",
   "nbconvert_exporter": "python",
   "pygments_lexer": "ipython3",
   "version": "3.10.12"
  }
 },
 "nbformat": 4,
 "nbformat_minor": 5
}
